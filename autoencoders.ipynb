{
 "cells": [
  {
   "cell_type": "markdown",
   "metadata": {
    "colab_type": "text",
    "id": "i7iguho0lDJL"
   },
   "source": [
    "# Autoencoders\n",
    "\n",
    "**Autoencoders** are a particular type of neural network, just like classifiers. Autoencoders are similar to classifiers in the sense that they compress data. However, where classifiers condense all the data of an image into a single label, autoencoders compress the data into a **latent vector**, often denoted $z$ in literature, with the goal of preserving the opportunity to recreate the exact same image in the future. Because autoencoders learn representations instead of labels, autoencoders belong to representation learning, a subfield of machine learning, but not necessarily deep learning.\n",
    "\n",
    "While recreating the same data from a compressed version might seem like an impossible task. However, _you_ can actually do the same. You probably have no difficulty memorizing the following sequence:\n",
    "\n",
    "$$1, 3, 5, 7, 9, 11, 13, 15, 17, 19, 21, 23, 25, 27...$$\n",
    "\n",
    "I bet you haven't looked at every item, but you can still write down the sequence perfectly because you recognized a pattern: all uneven numbers, starting from 1.\n",
    "\n",
    "This is what autoencoders do: they find patterns in data.\n",
    "\n",
    "## Architecture\n",
    "Autoencoders consist of two networks:\n",
    "\n",
    "* Encoder\n",
    "* Decoder\n",
    "\n",
    "The goal of the **encoder** is to compress an image, video, or any piece of data that can be represented as a tensor, into a _latent vector_. The **decoder** does, as you might have guessed, the exact opposite.\n",
    "\n",
    "To maximize performance, minimize the loss that is, encoders and decoders are typically symmetrical together. Naturally, the input size is equal to the output size of an autoencoder.\n",
    "\n",
    "Autoencoders always have less input neurons in the middle layer than in the input and output layer. This is called the **bottleneck**. If it weren't for this bottleneck, the autoencoders could just copy this data over from the input to the output layer without compressing it.\n",
    "\n",
    "![](https://upload.wikimedia.org/wikipedia/commons/2/28/Autoencoder_structure.png) [source](https://en.wikipedia.org/wiki/File:Autoencoder_structure.png)\n",
    "\n",
    "## Training\n",
    "\n",
    "Encoders and decoders _can_ be trained separately, but usually they are trained in one go. In order to do so, one stacks the coders together in one **stacked autoencoder**.\n",
    "\n",
    "If one desires to train autoencoders separately, one starts by using the first hidden layer, discaring every other layer, except for the input and output layers of course. He uses the original training data at this point. Next, he uses the latent vector $z$ learnt by this mini-autoencoder and trains another autoencoder in the same way, treating the latent vectors as original data. Once the desired depth is reached, one can stack all output layers, which provided the latent vectors, together in a sinle encoder. This approach is not used in practise a lot, but literature might refer to it as greedy layerwise training so it's good to know what it means.\n",
    "\n",
    "## Appliciations\n",
    "\n",
    "While the phase \"finding patterns\" might not seem very interesting, there are a lot of exciting applications of autoencoders. We will look at three of those today:\n",
    "\n",
    "1. Dense autoencoder: compressing data.\n",
    "2. Convolutional autoencoder: a building block of DCGANs, self-supervised learning.\n",
    "3. Denoising autoencoder: removing noise from poor training data.\n",
    "\n",
    "While all of these applications use pattern finding, they have different use cases making autoencoders one of the most exciting topics of machine learning."
   ]
  },
  {
   "cell_type": "code",
   "execution_count": 0,
   "metadata": {
    "colab": {
     "base_uri": "https://localhost:8080/",
     "height": 34
    },
    "colab_type": "code",
    "id": "ZDurKWtZd2ZK",
    "outputId": "f961a879-bd29-41ea-b964-67de7fd4a1d5"
   },
   "outputs": [
    {
     "name": "stdout",
     "output_type": "stream",
     "text": [
      "TensorFlow 2.x selected.\n"
     ]
    }
   ],
   "source": [
    "%tensorflow_version 2.x"
   ]
  },
  {
   "cell_type": "code",
   "execution_count": 0,
   "metadata": {
    "colab": {
     "base_uri": "https://localhost:8080/",
     "height": 34
    },
    "colab_type": "code",
    "id": "se3XrQkXfECV",
    "outputId": "43212f9a-4705-4188-ceae-fb1630958e45"
   },
   "outputs": [
    {
     "name": "stdout",
     "output_type": "stream",
     "text": [
      "Populating the interactive namespace from numpy and matplotlib\n"
     ]
    }
   ],
   "source": [
    "%pylab inline"
   ]
  },
  {
   "cell_type": "code",
   "execution_count": 0,
   "metadata": {
    "colab": {},
    "colab_type": "code",
    "id": "xsajTokKd4ov"
   },
   "outputs": [],
   "source": [
    "from tensorflow import keras"
   ]
  },
  {
   "cell_type": "markdown",
   "metadata": {
    "colab_type": "text",
    "id": "dORA82ERqFJm"
   },
   "source": [
    "## Loading the data\n",
    "\n",
    "We will load MNIST, but without labels because representation learning is **unsupervised**, or **self-supervised** which is the prefered term. (https://twitter.com/ylecun/status/1123235709802905600)"
   ]
  },
  {
   "cell_type": "code",
   "execution_count": 0,
   "metadata": {
    "colab": {},
    "colab_type": "code",
    "id": "xHjQztMZd9HA"
   },
   "outputs": [],
   "source": [
    "(x_train, _), (x_test, _) = keras.datasets.mnist.load_data()\n",
    "x_train = x_train / 255\n",
    "x_test = x_test / 255"
   ]
  },
  {
   "cell_type": "markdown",
   "metadata": {
    "colab_type": "text",
    "id": "N4nGDSzrqkRW"
   },
   "source": [
    "## A simple autoencoder\n",
    "\n",
    "Let's start by looking at the simplest possible autoencoder."
   ]
  },
  {
   "cell_type": "markdown",
   "metadata": {
    "colab_type": "text",
    "id": "UzRueJz9uvk1"
   },
   "source": [
    "The `encoder` is a sequential neural network with $28 \\times 28$ input neurons, $100$ neurons in the second layer and $30$ in the third. The third layer is called the \"bottleneck\". Feel free to play around with this variable to see how it affects results."
   ]
  },
  {
   "cell_type": "code",
   "execution_count": 0,
   "metadata": {
    "colab": {},
    "colab_type": "code",
    "id": "2kWUdt_frO5q"
   },
   "outputs": [],
   "source": [
    "encoder = keras.models.Sequential([\n",
    "    keras.layers.Flatten(input_shape=[28, 28]),\n",
    "    keras.layers.Dense(100, activation=\"relu\"),\n",
    "    keras.layers.Dense(30, activation=\"relu\"),\n",
    "])"
   ]
  },
  {
   "cell_type": "markdown",
   "metadata": {
    "colab_type": "text",
    "id": "pIQ5FsJ3v582"
   },
   "source": [
    "The decoder is the same, but in opposite order. Note that keras needs to know the input shape at this point. The input shape of the decoder is the shape of $z$, also called `zDim` as you will see later on."
   ]
  },
  {
   "cell_type": "code",
   "execution_count": 0,
   "metadata": {
    "colab": {},
    "colab_type": "code",
    "id": "MlY5WNZbrSlS"
   },
   "outputs": [],
   "source": [
    "decoder = keras.models.Sequential([\n",
    "    keras.layers.Dense(100, activation=\"relu\", input_shape=[30]),\n",
    "    keras.layers.Dense(28 * 28, activation=\"sigmoid\"),\n",
    "    keras.layers.Reshape([28, 28])\n",
    "])"
   ]
  },
  {
   "cell_type": "markdown",
   "metadata": {
    "colab_type": "text",
    "id": "8Mjx4Dw-wOHZ"
   },
   "source": [
    "Now stack them for training:"
   ]
  },
  {
   "cell_type": "code",
   "execution_count": 0,
   "metadata": {
    "colab": {},
    "colab_type": "code",
    "id": "_kMXqirZrVQb"
   },
   "outputs": [],
   "source": [
    "stacked_autoencoder = keras.models.Sequential([encoder, decoder])"
   ]
  },
  {
   "cell_type": "markdown",
   "metadata": {
    "colab_type": "text",
    "id": "wm2YYO8pTlYA"
   },
   "source": [
    "Note that we use binary cross entropy loss in stead of categorical cross entropy. The reason for that is because we are not classifying latent vectors to belong to a particular class, we do not even have classes!, but rather are trying to predict whether a pixel should be activated or not."
   ]
  },
  {
   "cell_type": "code",
   "execution_count": 0,
   "metadata": {
    "colab": {},
    "colab_type": "code",
    "id": "L4vkX9Clrc2r"
   },
   "outputs": [],
   "source": [
    "stacked_autoencoder.compile(loss=\"binary_crossentropy\",\n",
    "                   optimizer='adam')"
   ]
  },
  {
   "cell_type": "markdown",
   "metadata": {
    "colab_type": "text",
    "id": "-lpf1TdWwgJ1"
   },
   "source": [
    "Notice how the $x$ and $y$, both $x$, `x_train` if you like, are equal:"
   ]
  },
  {
   "cell_type": "code",
   "execution_count": 0,
   "metadata": {
    "colab": {
     "base_uri": "https://localhost:8080/",
     "height": 374
    },
    "colab_type": "code",
    "id": "owK3LtUHd0Ue",
    "outputId": "0d03e83d-e9f7-4321-b75a-9bf6aaa2ee9b"
   },
   "outputs": [
    {
     "name": "stdout",
     "output_type": "stream",
     "text": [
      "Train on 60000 samples, validate on 10000 samples\n",
      "Epoch 1/10\n",
      "60000/60000 [==============================] - 5s 89us/sample - loss: 0.1465 - val_loss: 0.1075\n",
      "Epoch 2/10\n",
      "60000/60000 [==============================] - 5s 80us/sample - loss: 0.1032 - val_loss: 0.0983\n",
      "Epoch 3/10\n",
      "60000/60000 [==============================] - 5s 78us/sample - loss: 0.0981 - val_loss: 0.0950\n",
      "Epoch 4/10\n",
      "60000/60000 [==============================] - 5s 79us/sample - loss: 0.0955 - val_loss: 0.0932\n",
      "Epoch 5/10\n",
      "60000/60000 [==============================] - 5s 81us/sample - loss: 0.0935 - val_loss: 0.0919\n",
      "Epoch 6/10\n",
      "60000/60000 [==============================] - 5s 80us/sample - loss: 0.0921 - val_loss: 0.0903\n",
      "Epoch 7/10\n",
      "60000/60000 [==============================] - 5s 79us/sample - loss: 0.0910 - val_loss: 0.0897\n",
      "Epoch 8/10\n",
      "60000/60000 [==============================] - 5s 79us/sample - loss: 0.0902 - val_loss: 0.0886\n",
      "Epoch 9/10\n",
      "60000/60000 [==============================] - 5s 80us/sample - loss: 0.0894 - val_loss: 0.0882\n",
      "Epoch 10/10\n",
      "60000/60000 [==============================] - 5s 79us/sample - loss: 0.0887 - val_loss: 0.0879\n"
     ]
    }
   ],
   "source": [
    "history = stacked_autoencoder.fit(x_train, x_train, epochs=10,\n",
    "                                  validation_data=[x_test, x_test])"
   ]
  },
  {
   "cell_type": "markdown",
   "metadata": {
    "colab_type": "text",
    "id": "FCfi-6Z1tf5B"
   },
   "source": [
    "Let's look at how the autoencoder reconstructs images."
   ]
  },
  {
   "cell_type": "code",
   "execution_count": 0,
   "metadata": {
    "colab": {
     "base_uri": "https://localhost:8080/",
     "height": 317
    },
    "colab_type": "code",
    "id": "E5-NbHh0sjXH",
    "outputId": "c203c4f5-24e2-461a-fca4-7e1a7020f0ba"
   },
   "outputs": [
    {
     "data": {
      "image/png": "[encoded data removed]",
      "text/plain": [
       "<Figure size 1440x360 with 16 Axes>"
      ]
     },
     "metadata": {
      "tags": []
     },
     "output_type": "display_data"
    }
   ],
   "source": [
    "figsize(20, 5)\n",
    "for i in range(8):\n",
    "  subplot(2, 8, i+1)\n",
    "  pred = stacked_autoencoder.predict(x_test[i].reshape((1, 28, 28)))\n",
    "  imshow(x_test[i], cmap=\"binary\")\n",
    "\n",
    "  subplot(2, 8, i+8+1)\n",
    "  imshow(pred.reshape((28, 28)), cmap=\"binary\")"
   ]
  },
  {
   "cell_type": "markdown",
   "metadata": {
    "colab_type": "text",
    "id": "w76E3vV3tn0r"
   },
   "source": [
    "Just from this vector:"
   ]
  },
  {
   "cell_type": "code",
   "execution_count": 0,
   "metadata": {
    "colab": {
     "base_uri": "https://localhost:8080/",
     "height": 230
    },
    "colab_type": "code",
    "id": "xvJoqjSMtswx",
    "outputId": "64c393b3-4c55-42ca-8406-c53a480a8f6d"
   },
   "outputs": [
    {
     "data": {
      "text/plain": [
       "<matplotlib.image.AxesImage at 0x7f723daea320>"
      ]
     },
     "execution_count": 11,
     "metadata": {
      "tags": []
     },
     "output_type": "execute_result"
    },
    {
     "data": {
      "image/png": "[encoded data removed]",
      "text/plain": [
       "<Figure size 720x360 with 3 Axes>"
      ]
     },
     "metadata": {
      "tags": []
     },
     "output_type": "display_data"
    }
   ],
   "source": [
    "i = 0 # change this number\n",
    "\n",
    "figsize(10, 5)\n",
    "\n",
    "subplot(1, 3, 1)\n",
    "imshow(x_test[i], cmap=\"binary\")\n",
    "\n",
    "subplot(1, 3, 2)\n",
    "latent_vector = encoder.predict(x_test[i].reshape((1, 28, 28)))\n",
    "imshow(latent_vector, cmap=\"binary\")\n",
    "\n",
    "subplot(1, 3, 3)\n",
    "pred = decoder.predict(latent_vector)\n",
    "imshow(x_test[i], cmap=\"binary\")"
   ]
  },
  {
   "cell_type": "code",
   "execution_count": 0,
   "metadata": {
    "colab": {
     "base_uri": "https://localhost:8080/",
     "height": 34
    },
    "colab_type": "code",
    "id": "wIPUo_VZuXeA",
    "outputId": "91c91af5-5aa7-45b7-d049-ce550cf12537"
   },
   "outputs": [
    {
     "data": {
      "text/plain": [
       "(0.03826530612244898, 0.9617346938775511)"
      ]
     },
     "execution_count": 12,
     "metadata": {
      "tags": []
     },
     "output_type": "execute_result"
    }
   ],
   "source": [
    "30 / (28 * 28), 1 - 30 / (28 * 28)"
   ]
  },
  {
   "cell_type": "markdown",
   "metadata": {
    "colab_type": "text",
    "id": "r-T-4saluaL9"
   },
   "source": [
    "That's 96.2% compression! Pretty amazing, huh?"
   ]
  },
  {
   "cell_type": "markdown",
   "metadata": {
    "colab_type": "text",
    "id": "keJ8F0ljiqHQ"
   },
   "source": [
    "## Convolutional autoencoder\n",
    "\n",
    "Apart from data compression, autoencoders can also be used for self-supervised image classification.\n",
    "\n",
    "The first layers of the encoder learn to recognize patterns in the data very well in order to compress the data. If you don't have access to much labelled data, but a lot of unlabelled data, it's possible to train an autoencoder and copy the first layers from the autoencoder to the classifier network. This can be compared to transfer learning, where you only have to train the head afterwards.\n",
    "\n",
    "It is well known that convolutional layers are perfect for finding patterns in data, so it's good to know they can also be used in autoencoders. To \"de-convolve\" images in the decoder, transposed convolutional layers are used. For more information on transposed convolutional layers, checkout [this blog post](https://rickwierenga.com/blog/s4tf/s4tf-gan.html) I have written which explains them in more detail. See the last section \"Autoencoders and GANs\" of this notebook for more information on the beautiful relation between GANs and autoencoders."
   ]
  },
  {
   "cell_type": "markdown",
   "metadata": {
    "colab_type": "text",
    "id": "3brAlL4D1BhP"
   },
   "source": [
    "Let's look at a convolutional encoder:"
   ]
  },
  {
   "cell_type": "code",
   "execution_count": 0,
   "metadata": {
    "colab": {},
    "colab_type": "code",
    "id": "S9r0Wzsa0vRK"
   },
   "outputs": [],
   "source": [
    "encoder = keras.models.Sequential([\n",
    "    keras.layers.Reshape([28, 28, 1], input_shape=[28, 28]),\n",
    "    keras.layers.Conv2D(16, kernel_size=(3, 3), padding=\"same\", activation=\"relu\"),\n",
    "    keras.layers.MaxPool2D(pool_size=2),\n",
    "    keras.layers.Conv2D(32, kernel_size=(3, 3), padding=\"same\", activation=\"relu\"),\n",
    "    keras.layers.MaxPool2D(pool_size=2),\n",
    "    keras.layers.Conv2D(64, kernel_size=(3, 3), padding=\"same\", activation=\"relu\"),\n",
    "    keras.layers.MaxPool2D(pool_size=2)\n",
    "])"
   ]
  },
  {
   "cell_type": "markdown",
   "metadata": {
    "colab_type": "text",
    "id": "QInLjLNV1Gz6"
   },
   "source": [
    "The weights learnt by this encoder could be copied to the classifier."
   ]
  },
  {
   "cell_type": "code",
   "execution_count": 0,
   "metadata": {
    "colab": {
     "base_uri": "https://localhost:8080/",
     "height": 34
    },
    "colab_type": "code",
    "id": "qFkh0zyA1akP",
    "outputId": "a36a96e4-0f3c-4123-97aa-cb74f8ee4629"
   },
   "outputs": [
    {
     "data": {
      "text/plain": [
       "(1, 3, 3, 64)"
      ]
     },
     "execution_count": 14,
     "metadata": {
      "tags": []
     },
     "output_type": "execute_result"
    }
   ],
   "source": [
    "encoder.predict(x_test[0].reshape((1, 28, 28))).shape"
   ]
  },
  {
   "cell_type": "markdown",
   "metadata": {
    "colab_type": "text",
    "id": "fuO3jfwe1Q-y"
   },
   "source": [
    "Notice how $z \\in \\mathbb{R}^{1 \\times 3 \\times 3 \\times 64}$. Now we build its counterpart, the decoder, with transposed convolutional layers to recreate a grayscale $28 \\times 28$ image."
   ]
  },
  {
   "cell_type": "code",
   "execution_count": 0,
   "metadata": {
    "colab": {},
    "colab_type": "code",
    "id": "fQbQitegiqrK"
   },
   "outputs": [],
   "source": [
    "decoder = keras.models.Sequential([\n",
    "    keras.layers.Conv2DTranspose(32, kernel_size=(3, 3), strides=2, padding=\"valid\",\n",
    "                                 activation=\"relu\",\n",
    "                                 input_shape=[3, 3, 64]),\n",
    "    keras.layers.Conv2DTranspose(16, kernel_size=(3, 3), strides=2, padding=\"same\",\n",
    "                                 activation=\"relu\"),\n",
    "    keras.layers.Conv2DTranspose(1, kernel_size=(3, 3), strides=2, padding=\"same\",\n",
    "                                 activation=\"sigmoid\"),\n",
    "    keras.layers.Reshape([28, 28])\n",
    "])"
   ]
  },
  {
   "cell_type": "code",
   "execution_count": 0,
   "metadata": {
    "colab": {},
    "colab_type": "code",
    "id": "VbexhKjN1vBX"
   },
   "outputs": [],
   "source": [
    "stacked_autoencoder = keras.models.Sequential([encoder, decoder])"
   ]
  },
  {
   "cell_type": "code",
   "execution_count": 0,
   "metadata": {
    "colab": {},
    "colab_type": "code",
    "id": "30DUbxUk1r9S"
   },
   "outputs": [],
   "source": [
    "stacked_autoencoder.compile(loss=\"binary_crossentropy\",\n",
    "                            optimizer='adam')"
   ]
  },
  {
   "cell_type": "code",
   "execution_count": 0,
   "metadata": {
    "colab": {
     "base_uri": "https://localhost:8080/",
     "height": 374
    },
    "colab_type": "code",
    "id": "NCstnS7BeNis",
    "outputId": "7b7e757c-1997-41e3-89a9-ba1aab7fd80c"
   },
   "outputs": [
    {
     "name": "stdout",
     "output_type": "stream",
     "text": [
      "Train on 60000 samples, validate on 10000 samples\n",
      "Epoch 1/10\n",
      "60000/60000 [==============================] - 7s 118us/sample - loss: 0.1188 - val_loss: 0.0829\n",
      "Epoch 2/10\n",
      "60000/60000 [==============================] - 7s 109us/sample - loss: 0.0803 - val_loss: 0.0768\n",
      "Epoch 3/10\n",
      "60000/60000 [==============================] - 7s 110us/sample - loss: 0.0764 - val_loss: 0.0744\n",
      "Epoch 4/10\n",
      "60000/60000 [==============================] - 7s 109us/sample - loss: 0.0742 - val_loss: 0.0727\n",
      "Epoch 5/10\n",
      "60000/60000 [==============================] - 7s 111us/sample - loss: 0.0727 - val_loss: 0.0719\n",
      "Epoch 6/10\n",
      "60000/60000 [==============================] - 7s 108us/sample - loss: 0.0716 - val_loss: 0.0706\n",
      "Epoch 7/10\n",
      "60000/60000 [==============================] - 6s 108us/sample - loss: 0.0708 - val_loss: 0.0701\n",
      "Epoch 8/10\n",
      "60000/60000 [==============================] - 7s 111us/sample - loss: 0.0702 - val_loss: 0.0691\n",
      "Epoch 9/10\n",
      "60000/60000 [==============================] - 7s 110us/sample - loss: 0.0698 - val_loss: 0.0692\n",
      "Epoch 10/10\n",
      "60000/60000 [==============================] - 7s 109us/sample - loss: 0.0694 - val_loss: 0.0685\n"
     ]
    }
   ],
   "source": [
    "history = stacked_autoencoder.fit(x_train, x_train, epochs=10,\n",
    "                         validation_data=[x_test, x_test])"
   ]
  },
  {
   "cell_type": "code",
   "execution_count": 0,
   "metadata": {
    "colab": {
     "base_uri": "https://localhost:8080/",
     "height": 317
    },
    "colab_type": "code",
    "id": "uV5ozBgpivuO",
    "outputId": "91e808bf-dd34-4b21-ebbd-3bbecf9f3c58"
   },
   "outputs": [
    {
     "data": {
      "image/png": "[encoded data removed]",
      "text/plain": [
       "<Figure size 1440x360 with 16 Axes>"
      ]
     },
     "metadata": {
      "tags": []
     },
     "output_type": "display_data"
    }
   ],
   "source": [
    "figsize(20, 5)\n",
    "for i in range(8):\n",
    "  subplot(2, 8, i+1)\n",
    "  pred = stacked_autoencoder.predict(x_test[i].reshape((1, 28, 28)))\n",
    "  imshow(x_test[i], cmap=\"binary\")\n",
    "\n",
    "  subplot(2, 8, i+8+1)\n",
    "  imshow(pred.reshape((28, 28)), cmap=\"binary\")"
   ]
  },
  {
   "cell_type": "markdown",
   "metadata": {
    "colab_type": "text",
    "id": "x5mn6fQv2j7i"
   },
   "source": [
    "Let's look at the weights the encoder learnt. Note that $\\sqrt{64} = 8$."
   ]
  },
  {
   "cell_type": "code",
   "execution_count": 0,
   "metadata": {
    "colab": {
     "base_uri": "https://localhost:8080/",
     "height": 863
    },
    "colab_type": "code",
    "id": "bbMinLr92cHq",
    "outputId": "308bc6cf-f291-481b-8639-96986f3feb2d"
   },
   "outputs": [
    {
     "data": {
      "image/png": "[encoded data removed]",
      "text/plain": [
       "<Figure size 1080x1080 with 64 Axes>"
      ]
     },
     "metadata": {
      "tags": []
     },
     "output_type": "display_data"
    }
   ],
   "source": [
    "figsize(15, 15)\n",
    "for i in range(8 * 8):\n",
    "  subplot(8, 8, i+1)\n",
    "  imshow(encoder.layers[-2].weights[0][:, :, 0, i])"
   ]
  },
  {
   "cell_type": "markdown",
   "metadata": {
    "colab_type": "text",
    "id": "6WP_geOt19rh"
   },
   "source": [
    "Visually not very pleasing, but proven to be effective as shown in the previous figure.\n",
    "\n",
    "$3 \\times 3 \\times 64=576$ is still less than $28 \\times 28 = 784$, thus creating a bottleneck, but much less compressed than the dense encoder making convolutional encoders less suitable for comporession. But thanks to their convolutional layers, they are great to use in cases where you want your autoencoder to find visual patterns in your data."
   ]
  },
  {
   "cell_type": "markdown",
   "metadata": {
    "colab_type": "text",
    "id": "KJJCyS68jOCc"
   },
   "source": [
    "## Denoising autoencoder\n",
    "\n",
    "The last application of autoencoders we look at today are denoising autoencoders. You probably have no difficulty classifying the images below as 7's."
   ]
  },
  {
   "cell_type": "code",
   "execution_count": 0,
   "metadata": {
    "colab": {},
    "colab_type": "code",
    "id": "j6KK0q554Rcl"
   },
   "outputs": [],
   "source": [
    "import numpy as np"
   ]
  },
  {
   "cell_type": "code",
   "execution_count": 0,
   "metadata": {
    "colab": {
     "base_uri": "https://localhost:8080/",
     "height": 193
    },
    "colab_type": "code",
    "id": "a8cPmRcS5NyE",
    "outputId": "863200e8-b498-445a-c9e4-f17c10aaafb7"
   },
   "outputs": [
    {
     "data": {
      "text/plain": [
       "<matplotlib.image.AxesImage at 0x7f724215db00>"
      ]
     },
     "execution_count": 22,
     "metadata": {
      "tags": []
     },
     "output_type": "execute_result"
    },
    {
     "data": {
      "image/png": "[encoded data removed]",
      "text/plain": [
       "<Figure size 360x720 with 2 Axes>"
      ]
     },
     "metadata": {
      "tags": []
     },
     "output_type": "display_data"
    }
   ],
   "source": [
    "figsize(5, 10)\n",
    "subplot(1, 2, 1)\n",
    "imshow(x_test[0], cmap=\"binary\")\n",
    "\n",
    "subplot(1, 2, 2)\n",
    "noise = np.random.random((28, 28)) / 4\n",
    "imshow(x_test[0] + noise, cmap=\"binary\")"
   ]
  },
  {
   "cell_type": "markdown",
   "metadata": {
    "colab_type": "text",
    "id": "GGCm0rHw5trZ"
   },
   "source": [
    "But in machine learning, this noise can be catasrophic. Luckily machine learning also has a solution for this problem: auto encoders!\n",
    "\n",
    "By applying noise to the images inputted to the encoder and setting the clean image as desired output, $y$, an autoencoder can learn to remove noise from the image.\n",
    "\n",
    "Let's look at such an encoder:"
   ]
  },
  {
   "cell_type": "code",
   "execution_count": 0,
   "metadata": {
    "colab": {},
    "colab_type": "code",
    "id": "WA201-am6NLR"
   },
   "outputs": [],
   "source": [
    "encoder = keras.models.Sequential([\n",
    "    keras.layers.Flatten(input_shape=[28, 28]),\n",
    "    keras.layers.Dense(100, activation=\"relu\"),\n",
    "    keras.layers.Dense(100, activation=\"relu\"),\n",
    "    keras.layers.Dense(30, activation=\"relu\")\n",
    "])"
   ]
  },
  {
   "cell_type": "code",
   "execution_count": 0,
   "metadata": {
    "colab": {},
    "colab_type": "code",
    "id": "95bcFg8t6QDW"
   },
   "outputs": [],
   "source": [
    "decoder = keras.models.Sequential([\n",
    "    keras.layers.Dense(100, activation=\"relu\", input_shape=[30]),\n",
    "    keras.layers.Dense(100, activation=\"relu\"),\n",
    "    keras.layers.Dense(28 * 28, activation=\"sigmoid\"),\n",
    "    keras.layers.Reshape([28, 28])\n",
    "])"
   ]
  },
  {
   "cell_type": "code",
   "execution_count": 0,
   "metadata": {
    "colab": {},
    "colab_type": "code",
    "id": "gTjYSjnOjPBG"
   },
   "outputs": [],
   "source": [
    "stacked_autoencoder = keras.models.Sequential([encoder, decoder])"
   ]
  },
  {
   "cell_type": "code",
   "execution_count": 0,
   "metadata": {
    "colab": {},
    "colab_type": "code",
    "id": "g7tml52yjT3R"
   },
   "outputs": [],
   "source": [
    "stacked_autoencoder.compile(loss=\"binary_crossentropy\",\n",
    "                            optimizer='adam')"
   ]
  },
  {
   "cell_type": "markdown",
   "metadata": {
    "colab_type": "text",
    "id": "BTf3Wm7o6b_L"
   },
   "source": [
    "Now create a dataset filled with noise:"
   ]
  },
  {
   "cell_type": "code",
   "execution_count": 0,
   "metadata": {
    "colab": {},
    "colab_type": "code",
    "id": "8bbboFnI6oep"
   },
   "outputs": [],
   "source": [
    "x_train_noise = x_train + ((np.random.random(x_train.shape)) / 4)\n",
    "x_test_noise = x_test + ((np.random.random(x_test.shape)) / 4)"
   ]
  },
  {
   "cell_type": "code",
   "execution_count": 0,
   "metadata": {
    "colab": {
     "base_uri": "https://localhost:8080/",
     "height": 344
    },
    "colab_type": "code",
    "id": "UqI_FLqk6u2S",
    "outputId": "f207acbb-d97e-4aa8-bb66-413a161cc967"
   },
   "outputs": [
    {
     "data": {
      "text/plain": [
       "<matplotlib.image.AxesImage at 0x7f7242002b70>"
      ]
     },
     "execution_count": 28,
     "metadata": {
      "tags": []
     },
     "output_type": "execute_result"
    },
    {
     "data": {
      "image/png": "[encoded data removed]",
      "text/plain": [
       "<Figure size 360x720 with 1 Axes>"
      ]
     },
     "metadata": {
      "tags": []
     },
     "output_type": "display_data"
    }
   ],
   "source": [
    "imshow(x_train_noise[0], cmap=\"binary\")"
   ]
  },
  {
   "cell_type": "markdown",
   "metadata": {
    "colab_type": "text",
    "id": "kKG1VdhZVlD-"
   },
   "source": [
    "And finally train the stacked autoencoder with noise input data and clean output data."
   ]
  },
  {
   "cell_type": "code",
   "execution_count": 0,
   "metadata": {
    "colab": {
     "base_uri": "https://localhost:8080/",
     "height": 374
    },
    "colab_type": "code",
    "id": "xnJKMGy76Yy-",
    "outputId": "75e55f31-2fc4-44e7-a724-2daff8879db3"
   },
   "outputs": [
    {
     "name": "stdout",
     "output_type": "stream",
     "text": [
      "Train on 60000 samples, validate on 10000 samples\n",
      "Epoch 1/10\n",
      "60000/60000 [==============================] - 6s 93us/sample - loss: 0.1633 - val_loss: 0.1264\n",
      "Epoch 2/10\n",
      "60000/60000 [==============================] - 5s 87us/sample - loss: 0.1206 - val_loss: 0.1130\n",
      "Epoch 3/10\n",
      "60000/60000 [==============================] - 5s 87us/sample - loss: 0.1117 - val_loss: 0.1080\n",
      "Epoch 4/10\n",
      "60000/60000 [==============================] - 5s 87us/sample - loss: 0.1074 - val_loss: 0.1051\n",
      "Epoch 5/10\n",
      "60000/60000 [==============================] - 5s 86us/sample - loss: 0.1049 - val_loss: 0.1031\n",
      "Epoch 6/10\n",
      "60000/60000 [==============================] - 5s 86us/sample - loss: 0.1033 - val_loss: 0.1013\n",
      "Epoch 7/10\n",
      "60000/60000 [==============================] - 5s 87us/sample - loss: 0.1019 - val_loss: 0.1006\n",
      "Epoch 8/10\n",
      "60000/60000 [==============================] - 5s 86us/sample - loss: 0.1004 - val_loss: 0.0987\n",
      "Epoch 9/10\n",
      "60000/60000 [==============================] - 5s 87us/sample - loss: 0.0991 - val_loss: 0.0982\n",
      "Epoch 10/10\n",
      "60000/60000 [==============================] - 5s 85us/sample - loss: 0.0980 - val_loss: 0.0964\n"
     ]
    }
   ],
   "source": [
    "history = stacked_autoencoder.fit(x_train_noise, x_train, epochs=10,\n",
    "                                  validation_data=[x_test_noise, x_test])"
   ]
  },
  {
   "cell_type": "code",
   "execution_count": 0,
   "metadata": {
    "colab": {
     "base_uri": "https://localhost:8080/",
     "height": 317
    },
    "colab_type": "code",
    "id": "OxJe1PTtjZVL",
    "outputId": "316aec8a-0248-4779-bce8-d59ff8debc2b"
   },
   "outputs": [
    {
     "data": {
      "image/png": "[encoded data removed]",
      "text/plain": [
       "<Figure size 1440x360 with 16 Axes>"
      ]
     },
     "metadata": {
      "tags": []
     },
     "output_type": "display_data"
    }
   ],
   "source": [
    "figsize(20, 5)\n",
    "for i in range(8):\n",
    "  subplot(2, 8, i+1)\n",
    "  imshow(x_test_noise[i], cmap=\"binary\")\n",
    "\n",
    "  subplot(2, 8, i+8+1)\n",
    "  pred = stacked_autoencoder.predict(x_test_noise[i].reshape((1, 28, 28)))\n",
    "  imshow(pred.reshape((28, 28)), cmap=\"binary\")"
   ]
  },
  {
   "cell_type": "markdown",
   "metadata": {
    "colab_type": "text",
    "id": "iDlKfkBX7cL_"
   },
   "source": [
    "Mindblowing!"
   ]
  },
  {
   "cell_type": "markdown",
   "metadata": {
    "colab_type": "text",
    "id": "m70xDxSj7geU"
   },
   "source": [
    "## Autoencoders and GANs\n",
    "\n",
    "If you have ever worked with GANs, you have probably noticed some similarities between the generator and decoders by now. Both create images that look like images in the dataset from latent vectors. In fact, the decoder we used for the convolutional auto encoder is one that could be used in DCGANs ([ref](https://rickwierenga.com/blog/s4tf/s4tf-gan.html)).\n",
    "\n",
    "By encoding training images into latent vectors using an encoder, it's possible to manipulate the output of the generator by manipulating the latent vectors.\n",
    "\n",
    "* Combining latent vectors of particular training examples into a single latent vector to combine the features of the training examples in a single image.\n",
    "* That's what researchers at NVIDIA built upon by transitioning latent vectors it's possible to create videos like these:\n",
    "\n",
    "https://www.youtube.com/watch?v=6E1_dgYlifc"
   ]
  },
  {
   "cell_type": "markdown",
   "metadata": {},
   "source": [
    "---\n",
    "made by [@rickwierenga](https://twitter.com/rickwierenga). [GitHub version](https://github.com/rickwierenga/notebooks/blob/master/autoencoders.ipynb)"
   ]
  }
 ],
 "metadata": {
  "accelerator": "GPU",
  "colab": {
   "collapsed_sections": [
    "dORA82ERqFJm"
   ],
   "name": "Autoencoder.ipynb",
   "provenance": []
  },
  "kernelspec": {
   "display_name": "Python 3",
   "language": "python",
   "name": "python3"
  },
  "language_info": {
   "codemirror_mode": {
    "name": "ipython",
    "version": 3
   },
   "file_extension": ".py",
   "mimetype": "text/x-python",
   "name": "python",
   "nbconvert_exporter": "python",
   "pygments_lexer": "ipython3",
   "version": "3.7.1"
  }
 },
 "nbformat": 4,
 "nbformat_minor": 1
}
